{
 "cells": [
  {
   "cell_type": "code",
   "execution_count": 1,
   "id": "90de3da7",
   "metadata": {},
   "outputs": [],
   "source": [
    "import seaborn as sns\n",
    "import matplotlib.pyplot as plt\n",
    "import pandas as pd\n",
    "import numpy as np\n",
    "\n",
    "%matplotlib inline"
   ]
  },
  {
   "cell_type": "code",
   "execution_count": 2,
   "id": "f7d9fd1d",
   "metadata": {},
   "outputs": [],
   "source": [
    "import yfinance as yf"
   ]
  },
  {
   "cell_type": "code",
   "execution_count": 3,
   "id": "e8771fe6",
   "metadata": {},
   "outputs": [
    {
     "name": "stdout",
     "output_type": "stream",
     "text": [
      "[*********************100%%**********************]  1 of 1 completed\n"
     ]
    }
   ],
   "source": [
    "# Define the stock symbol (in this case, Tesla)\n",
    "stock_symbol = \"TSLA\"\n",
    "\n",
    "# Define the start and end dates for the data\n",
    "start_date = \"2023-01-01\"\n",
    "end_date = \"2024-01-01\"\n",
    "\n",
    "# Use yfinance to fetch the data\n",
    "tesla_data = yf.download(stock_symbol, start=start_date, end=end_date)"
   ]
  },
  {
   "cell_type": "markdown",
   "id": "119d5f63",
   "metadata": {},
   "source": [
    "reset the index"
   ]
  },
  {
   "cell_type": "code",
   "execution_count": 4,
   "id": "f9d14031",
   "metadata": {},
   "outputs": [],
   "source": [
    "tesla_data.reset_index(inplace=True)"
   ]
  },
  {
   "cell_type": "code",
   "execution_count": 5,
   "id": "1798bf37",
   "metadata": {},
   "outputs": [
    {
     "data": {
      "text/html": [
       "<div>\n",
       "<style scoped>\n",
       "    .dataframe tbody tr th:only-of-type {\n",
       "        vertical-align: middle;\n",
       "    }\n",
       "\n",
       "    .dataframe tbody tr th {\n",
       "        vertical-align: top;\n",
       "    }\n",
       "\n",
       "    .dataframe thead th {\n",
       "        text-align: right;\n",
       "    }\n",
       "</style>\n",
       "<table border=\"1\" class=\"dataframe\">\n",
       "  <thead>\n",
       "    <tr style=\"text-align: right;\">\n",
       "      <th></th>\n",
       "      <th>Date</th>\n",
       "      <th>Open</th>\n",
       "      <th>High</th>\n",
       "      <th>Low</th>\n",
       "      <th>Close</th>\n",
       "      <th>Adj Close</th>\n",
       "      <th>Volume</th>\n",
       "    </tr>\n",
       "  </thead>\n",
       "  <tbody>\n",
       "    <tr>\n",
       "      <th>0</th>\n",
       "      <td>2023-01-03</td>\n",
       "      <td>118.470001</td>\n",
       "      <td>118.800003</td>\n",
       "      <td>104.639999</td>\n",
       "      <td>108.099998</td>\n",
       "      <td>108.099998</td>\n",
       "      <td>231402800</td>\n",
       "    </tr>\n",
       "    <tr>\n",
       "      <th>1</th>\n",
       "      <td>2023-01-04</td>\n",
       "      <td>109.110001</td>\n",
       "      <td>114.589996</td>\n",
       "      <td>107.519997</td>\n",
       "      <td>113.639999</td>\n",
       "      <td>113.639999</td>\n",
       "      <td>180389000</td>\n",
       "    </tr>\n",
       "    <tr>\n",
       "      <th>2</th>\n",
       "      <td>2023-01-05</td>\n",
       "      <td>110.510002</td>\n",
       "      <td>111.750000</td>\n",
       "      <td>107.160004</td>\n",
       "      <td>110.339996</td>\n",
       "      <td>110.339996</td>\n",
       "      <td>157986300</td>\n",
       "    </tr>\n",
       "    <tr>\n",
       "      <th>3</th>\n",
       "      <td>2023-01-06</td>\n",
       "      <td>103.000000</td>\n",
       "      <td>114.389999</td>\n",
       "      <td>101.809998</td>\n",
       "      <td>113.059998</td>\n",
       "      <td>113.059998</td>\n",
       "      <td>220911100</td>\n",
       "    </tr>\n",
       "    <tr>\n",
       "      <th>4</th>\n",
       "      <td>2023-01-09</td>\n",
       "      <td>118.959999</td>\n",
       "      <td>123.519997</td>\n",
       "      <td>117.110001</td>\n",
       "      <td>119.769997</td>\n",
       "      <td>119.769997</td>\n",
       "      <td>190284000</td>\n",
       "    </tr>\n",
       "  </tbody>\n",
       "</table>\n",
       "</div>"
      ],
      "text/plain": [
       "        Date        Open        High         Low       Close   Adj Close  \\\n",
       "0 2023-01-03  118.470001  118.800003  104.639999  108.099998  108.099998   \n",
       "1 2023-01-04  109.110001  114.589996  107.519997  113.639999  113.639999   \n",
       "2 2023-01-05  110.510002  111.750000  107.160004  110.339996  110.339996   \n",
       "3 2023-01-06  103.000000  114.389999  101.809998  113.059998  113.059998   \n",
       "4 2023-01-09  118.959999  123.519997  117.110001  119.769997  119.769997   \n",
       "\n",
       "      Volume  \n",
       "0  231402800  \n",
       "1  180389000  \n",
       "2  157986300  \n",
       "3  220911100  \n",
       "4  190284000  "
      ]
     },
     "execution_count": 5,
     "metadata": {},
     "output_type": "execute_result"
    }
   ],
   "source": [
    "tesla_data.head()"
   ]
  },
  {
   "cell_type": "markdown",
   "id": "f69667f8",
   "metadata": {},
   "source": [
    "#   Webscraping to Extract Tesla Revenue Data"
   ]
  },
  {
   "cell_type": "code",
   "execution_count": 6,
   "id": "c616b060",
   "metadata": {},
   "outputs": [],
   "source": [
    "import requests\n",
    "from bs4 import BeautifulSoup"
   ]
  },
  {
   "cell_type": "code",
   "execution_count": 15,
   "id": "98398bdd",
   "metadata": {},
   "outputs": [],
   "source": [
    "url= 'https://cf-courses-data.s3.us.cloud-object-storage.appdomain.cloud/IBMDeveloperSkillsNetwork-PY0220EN-SkillsNetwork/labs/project/revenue.htm'"
   ]
  },
  {
   "cell_type": "code",
   "execution_count": 38,
   "id": "072924ac",
   "metadata": {},
   "outputs": [],
   "source": [
    "tesla_data=data=requests.get(url).text\n",
    "\n",
    "#print(tesla_data)"
   ]
  },
  {
   "cell_type": "markdown",
   "id": "a92c4943",
   "metadata": {},
   "source": [
    "# Parse the HTML content of the page"
   ]
  },
  {
   "cell_type": "code",
   "execution_count": 21,
   "id": "178da45f",
   "metadata": {},
   "outputs": [],
   "source": [
    "soup=BeautifulSoup(tesla_data,'html5lib')"
   ]
  },
  {
   "cell_type": "code",
   "execution_count": 23,
   "id": "bc009615",
   "metadata": {},
   "outputs": [],
   "source": [
    "# extract data from the table\n",
    "\n",
    "tesla_revenue=pd.read_html(url)"
   ]
  },
  {
   "cell_type": "code",
   "execution_count": 39,
   "id": "9c8cf84b",
   "metadata": {},
   "outputs": [],
   "source": [
    "tesla_revenue_dataframe=tesla_revenue[1]  # revenue dataframe was in index 1"
   ]
  },
  {
   "cell_type": "code",
   "execution_count": 30,
   "id": "7796a15e",
   "metadata": {},
   "outputs": [],
   "source": [
    "# reset the columns name to Date and Revenue\n",
    "tesla_revenue_dataframe.columns=['Date','Revenue']"
   ]
  },
  {
   "cell_type": "markdown",
   "id": "cbf2be9e",
   "metadata": {},
   "source": [
    "Execute the following line to remove the comma and dollar sign from the Revenue column."
   ]
  },
  {
   "cell_type": "code",
   "execution_count": 32,
   "id": "fea02ca4",
   "metadata": {},
   "outputs": [
    {
     "name": "stderr",
     "output_type": "stream",
     "text": [
      "C:\\Users\\hi\\AppData\\Local\\Temp\\ipykernel_11144\\61884094.py:1: FutureWarning: The default value of regex will change from True to False in a future version.\n",
      "  tesla_revenue_dataframe['Revenue']=tesla_revenue_dataframe['Revenue'].str.replace(',|\\$',\"\")\n"
     ]
    }
   ],
   "source": [
    "tesla_revenue_dataframe['Revenue']=tesla_revenue_dataframe['Revenue'].str.replace(',|\\$',\"\")"
   ]
  },
  {
   "cell_type": "markdown",
   "id": "6183e127",
   "metadata": {},
   "source": [
    "Execute the following lines to remove an null or empty strings in the Revenue column."
   ]
  },
  {
   "cell_type": "code",
   "execution_count": 33,
   "id": "a0cc200b",
   "metadata": {},
   "outputs": [],
   "source": [
    "tesla_revenue_dataframe.dropna(inplace=True)"
   ]
  },
  {
   "cell_type": "code",
   "execution_count": 34,
   "id": "5b0e14fe",
   "metadata": {},
   "outputs": [],
   "source": [
    "tesla_revenue_dataframe=tesla_revenue_dataframe[tesla_revenue_dataframe['Revenue'] !=\"\"]"
   ]
  },
  {
   "cell_type": "code",
   "execution_count": 37,
   "id": "6a0b1d7f",
   "metadata": {},
   "outputs": [
    {
     "data": {
      "text/html": [
       "<div>\n",
       "<style scoped>\n",
       "    .dataframe tbody tr th:only-of-type {\n",
       "        vertical-align: middle;\n",
       "    }\n",
       "\n",
       "    .dataframe tbody tr th {\n",
       "        vertical-align: top;\n",
       "    }\n",
       "\n",
       "    .dataframe thead th {\n",
       "        text-align: right;\n",
       "    }\n",
       "</style>\n",
       "<table border=\"1\" class=\"dataframe\">\n",
       "  <thead>\n",
       "    <tr style=\"text-align: right;\">\n",
       "      <th></th>\n",
       "      <th>Date</th>\n",
       "      <th>Revenue</th>\n",
       "    </tr>\n",
       "  </thead>\n",
       "  <tbody>\n",
       "    <tr>\n",
       "      <th>48</th>\n",
       "      <td>2010-09-30</td>\n",
       "      <td>31</td>\n",
       "    </tr>\n",
       "    <tr>\n",
       "      <th>49</th>\n",
       "      <td>2010-06-30</td>\n",
       "      <td>28</td>\n",
       "    </tr>\n",
       "    <tr>\n",
       "      <th>50</th>\n",
       "      <td>2010-03-31</td>\n",
       "      <td>21</td>\n",
       "    </tr>\n",
       "    <tr>\n",
       "      <th>52</th>\n",
       "      <td>2009-09-30</td>\n",
       "      <td>46</td>\n",
       "    </tr>\n",
       "    <tr>\n",
       "      <th>53</th>\n",
       "      <td>2009-06-30</td>\n",
       "      <td>27</td>\n",
       "    </tr>\n",
       "  </tbody>\n",
       "</table>\n",
       "</div>"
      ],
      "text/plain": [
       "          Date Revenue\n",
       "48  2010-09-30      31\n",
       "49  2010-06-30      28\n",
       "50  2010-03-31      21\n",
       "52  2009-09-30      46\n",
       "53  2009-06-30      27"
      ]
     },
     "execution_count": 37,
     "metadata": {},
     "output_type": "execute_result"
    }
   ],
   "source": [
    "tesla_revenue_dataframe.tail()"
   ]
  },
  {
   "cell_type": "code",
   "execution_count": null,
   "id": "e4ec7e7d",
   "metadata": {},
   "outputs": [],
   "source": []
  }
 ],
 "metadata": {
  "kernelspec": {
   "display_name": "Python 3 (ipykernel)",
   "language": "python",
   "name": "python3"
  },
  "language_info": {
   "codemirror_mode": {
    "name": "ipython",
    "version": 3
   },
   "file_extension": ".py",
   "mimetype": "text/x-python",
   "name": "python",
   "nbconvert_exporter": "python",
   "pygments_lexer": "ipython3",
   "version": "3.11.4"
  }
 },
 "nbformat": 4,
 "nbformat_minor": 5
}
